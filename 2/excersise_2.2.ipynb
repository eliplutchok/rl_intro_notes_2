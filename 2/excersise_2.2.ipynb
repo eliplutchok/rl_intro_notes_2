{
 "cells": [
  {
   "cell_type": "code",
   "execution_count": 2,
   "id": "687d5e04",
   "metadata": {},
   "outputs": [
    {
     "name": "stdout",
     "output_type": "stream",
     "text": [
      "action:  1\n",
      "is this the max value action?  True\n",
      "action:  2\n",
      "is this the max value action?  True\n",
      "action:  2\n",
      "is this the max value action?  True\n",
      "action:  2\n",
      "is this the max value action?  True\n",
      "action:  3\n",
      "is this the max value action?  True\n",
      "[ 0 -1  0  0]\n",
      "[0. 1. 3. 1.]\n"
     ]
    }
   ],
   "source": [
    "import numpy as np\n",
    "action_space = np.array([1, 2, 3, 4])\n",
    "action_values = np.array([0, 0, 0, 0])\n",
    "action_counts = np.zeros(4)\n",
    "\n",
    "def update_stats(action, reward):\n",
    "    action_counts[action] += 1\n",
    "    action_values[action] += (reward - action_values[action]) / action_counts[action]\n",
    "\n",
    "episode = [\n",
    "    (1, -1),\n",
    "    (2, 1),\n",
    "    (2, -2),\n",
    "    (2, 2),\n",
    "    (3, 0)\n",
    "]\n",
    "\n",
    "for action, reward in episode:\n",
    "    print(\"action: \", action)\n",
    "    print(\"is this the max value action? \", action_values[action] == np.max(action_values))\n",
    "    update_stats(action, reward)\n",
    "\n",
    "print(action_values)\n",
    "print(action_counts)\n",
    "\n",
    "# as u can see, at every step, we take an action with the highest value\n"
   ]
  }
 ],
 "metadata": {
  "kernelspec": {
   "display_name": "venv",
   "language": "python",
   "name": "python3"
  },
  "language_info": {
   "codemirror_mode": {
    "name": "ipython",
    "version": 3
   },
   "file_extension": ".py",
   "mimetype": "text/x-python",
   "name": "python",
   "nbconvert_exporter": "python",
   "pygments_lexer": "ipython3",
   "version": "3.12.7"
  }
 },
 "nbformat": 4,
 "nbformat_minor": 5
}
