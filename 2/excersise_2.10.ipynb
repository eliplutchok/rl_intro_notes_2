{
 "cells": [
  {
   "cell_type": "markdown",
   "id": "ef2c65a3",
   "metadata": {},
   "source": [
    "Suppose you face a 2-armed bandit task whose true action values change\n",
    "randomly from time step to time step. Specifically, suppose that, for any time step,\n",
    "the true values of actions 1 and 2 are respectively 10 and 20 with probability 0.5 (case\n",
    "A), and 90 and 80 with probability 0.5 (case B). If you are not able to tell which case\n",
    "you face at any step, what is the best expected reward you can achieve and how should\n",
    "you behave to achieve it? Now suppose that on each step you are told whether you are\n",
    "facing case A or case B (although you still don’t know the true action values). This is an\n",
    "associative search task. What is the best expected reward you can achieve in this task,\n",
    "and how should you behave to achieve it?"
   ]
  },
  {
   "cell_type": "code",
   "execution_count": null,
   "id": "23c4d216",
   "metadata": {},
   "outputs": [
    {
     "name": "stdout",
     "output_type": "stream",
     "text": [
      "50.0\n",
      "50.0\n",
      "55.0\n"
     ]
    }
   ],
   "source": [
    "# if we dont know the case then both actions will have an average reward of 50 (.5 * 10 + .5 * 90)\n",
    "print(.5 * 10 + .5 * 90)\n",
    "print(.5 * 20 + .5 * 80)\n",
    "\n",
    "# if we know the case then we should always choose the action with the highest expected reward\n",
    "# we will be know the case and be able to estimate the values\n",
    "# we will always choose the top 1 with a greedy policy\n",
    "# there are 2 equally likely possible combinations\n",
    "# 10, 20 -> we choose 20 (action 2)\n",
    "# 90, 80 -> we choose 90 (action 1)\n",
    "# so our expected reward is :\n",
    "print(.5 * 20 + .5 * 90)"
   ]
  }
 ],
 "metadata": {
  "kernelspec": {
   "display_name": "venv",
   "language": "python",
   "name": "python3"
  },
  "language_info": {
   "codemirror_mode": {
    "name": "ipython",
    "version": 3
   },
   "file_extension": ".py",
   "mimetype": "text/x-python",
   "name": "python",
   "nbconvert_exporter": "python",
   "pygments_lexer": "ipython3",
   "version": "3.12.7"
  }
 },
 "nbformat": 4,
 "nbformat_minor": 5
}
