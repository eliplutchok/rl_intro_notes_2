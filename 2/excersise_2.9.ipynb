{
 "cells": [
  {
   "cell_type": "code",
   "execution_count": null,
   "id": "9155ac2a",
   "metadata": {},
   "outputs": [],
   "source": [
    "import numpy as np\n",
    "\n",
    "z = np.random.randn(2)\n",
    "softmax = np.exp(z - z.max()) / np.exp(z - z.max()).sum()\n",
    "\n",
    "# argument is the difference between the two actions\n",
    "p1 = 1 / (1 + np.exp(-(z[0] - z[1])))\n",
    "\n",
    "print(softmax[0], p1) "
   ]
  }
 ],
 "metadata": {
  "language_info": {
   "name": "python"
  }
 },
 "nbformat": 4,
 "nbformat_minor": 5
}
