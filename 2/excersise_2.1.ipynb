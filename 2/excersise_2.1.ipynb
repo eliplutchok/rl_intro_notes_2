{
 "cells": [
  {
   "cell_type": "code",
   "execution_count": 5,
   "id": "beba53fb",
   "metadata": {},
   "outputs": [
    {
     "name": "stdout",
     "output_type": "stream",
     "text": [
      "[0.2498 0.7502]\n"
     ]
    }
   ],
   "source": [
    "import numpy as np\n",
    "\n",
    "# 2 actions, eps = .5\n",
    "action_values = np.array([0, 1])\n",
    "\n",
    "def choose_action(action_values, epsilon):\n",
    "    if np.random.rand() < epsilon:\n",
    "        return np.random.choice(action_values)\n",
    "    else:\n",
    "        return np.argmax(action_values)\n",
    "\n",
    "\n",
    "# prob of taking greedy action is .5 + (.5 * .5) = .75\n",
    "# lets confirm\n",
    "action_selection = np.zeros(2)\n",
    "NUM_SAMPLES = 10000\n",
    "for _ in range(NUM_SAMPLES):\n",
    "    action = choose_action(action_values, .5)\n",
    "    action_selection[action] += 1\n",
    "\n",
    "print(action_selection / NUM_SAMPLES)"
   ]
  }
 ],
 "metadata": {
  "kernelspec": {
   "display_name": "venv",
   "language": "python",
   "name": "python3"
  },
  "language_info": {
   "codemirror_mode": {
    "name": "ipython",
    "version": 3
   },
   "file_extension": ".py",
   "mimetype": "text/x-python",
   "name": "python",
   "nbconvert_exporter": "python",
   "pygments_lexer": "ipython3",
   "version": "3.12.7"
  }
 },
 "nbformat": 4,
 "nbformat_minor": 5
}
