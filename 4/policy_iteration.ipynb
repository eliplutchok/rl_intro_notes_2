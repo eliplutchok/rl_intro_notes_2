{
 "cells": [
  {
   "cell_type": "code",
   "execution_count": null,
   "id": "9c2d93ca",
   "metadata": {},
   "outputs": [
    {
     "name": "stdout",
     "output_type": "stream",
     "text": [
      "[-9.99994933e-01 -9.99996417e-01  1.79150605e-06  0.00000000e+00]\n"
     ]
    }
   ],
   "source": [
    "import numpy as np\n",
    "\n",
    "S = [0, 1, 2, 3]\n",
    "A = [0, 1]\n",
    "TERMINAL_STATES = [3]\n",
    "\n",
    "# policy function returns an action for a given state\n",
    "pi_storage = {}\n",
    "def pi(s):\n",
    "    if s not in pi_storage:\n",
    "        pi_storage[s] = np.random.choice(A)\n",
    "    return pi_storage[s]\n",
    "\n",
    "def policy_evaluation(V, S, A, SR, P, pi, theta=1e-6, gamma=1.0):\n",
    "    while True:\n",
    "        delta = 0.0\n",
    "        for s in S:\n",
    "            v = V[s]\n",
    "            V[s] = sum(P(s, pi(s), s_prime, r) * (r + gamma * V[s_prime]) for s_prime, r in SR(s, pi(s)))\n",
    "            delta = max(delta, abs(v - V[s]))\n",
    "        if delta < theta: break\n",
    "    return V\n",
    "\n",
    "def policy_improvement(V, S, A, SR, P, pi, gamma=1.0):\n",
    "    policy_stable = True\n",
    "    for s in S:\n",
    "        old_action = pi(s)\n",
    "        pi_storage[s] = np.argmax([sum(P(s, a, s_prime, r) * (r + gamma * V[s_prime]) for s_prime, r in SR(s, a)) for a in A])\n",
    "        if old_action != pi(s):\n",
    "            policy_stable = False\n",
    "    return policy_stable\n",
    "\n",
    "\n",
    "def policy_iteration(S, A, SR, P, pi, gamma=1.0, theta=1e-6):\n",
    "    V = np.zeros(len(S), dtype=float)\n",
    "    while True:\n",
    "        V = policy_evaluation(V, S, A, SR, P, pi, theta, gamma)\n",
    "        if policy_improvement(V, S, A, SR, P, pi, gamma):\n",
    "            break\n",
    "    return V, pi\n",
    "\n",
    "SR_PAIRS = {\n",
    "    (0, 0): [(0, 0.0)],\n",
    "    (0, 1): [(1, 0.0)],\n",
    "    (1, 0): [(2, -1.0)],\n",
    "    (1, 1): [(0, 0.0)],\n",
    "    (2, 0): [(3, 1.0)],\n",
    "    (2, 1): [(1, 0.0)],\n",
    "    (3, 0): [(3, 0.0)],\n",
    "    (3, 1): [(3, 0.0)],\n",
    "}\n",
    "\n",
    "def SR(s, a):\n",
    "    return SR_PAIRS.get((s, a), [])\n",
    "\n",
    "P_PROB = {\n",
    "    (0, 0, 0, 0.0): 1.0,\n",
    "    (0, 1, 1, 0.0): 1.0,\n",
    "    (1, 0, 2, -1.0): 1.0,\n",
    "    (1, 1, 0, 0.0): 1.0,\n",
    "    (2, 0, 3, 1.0): 1.0,\n",
    "    (2, 1, 1, 0.0): 1.0,\n",
    "    (3, 0, 3, 0.0): 1.0,\n",
    "    (3, 1, 3, 0.0): 1.0,\n",
    "}\n",
    "\n",
    "def P(s, a, s_prime, r):\n",
    "    return P_PROB.get((s, a, s_prime, r), 0.0)\n",
    "\n",
    "\n"
   ]
  }
 ],
 "metadata": {
  "kernelspec": {
   "display_name": "venv",
   "language": "python",
   "name": "python3"
  },
  "language_info": {
   "codemirror_mode": {
    "name": "ipython",
    "version": 3
   },
   "file_extension": ".py",
   "mimetype": "text/x-python",
   "name": "python",
   "nbconvert_exporter": "python",
   "pygments_lexer": "ipython3",
   "version": "3.12.7"
  }
 },
 "nbformat": 4,
 "nbformat_minor": 5
}
