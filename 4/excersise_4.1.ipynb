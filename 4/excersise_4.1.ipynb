{
 "cells": [
  {
   "cell_type": "code",
   "execution_count": 10,
   "id": "7ff978b5",
   "metadata": {},
   "outputs": [
    {
     "name": "stdout",
     "output_type": "stream",
     "text": [
      "[[  0. -14. -20. -22.]\n",
      " [-14. -18. -20. -20.]\n",
      " [-20. -20. -18. -14.]\n",
      " [-22. -20. -14.   0.]]\n"
     ]
    }
   ],
   "source": [
    "import numpy as np\n",
    "\n",
    "def policy_evaluation(S, A, SR, P, pi, theta=1e-6, gamma=1.0):\n",
    "    V = np.zeros((GRID_SIZE, GRID_SIZE), dtype=float)\n",
    "\n",
    "    while True:\n",
    "        delta = 0.0\n",
    "        for s in S:\n",
    "            v = V[s]\n",
    "            V[s] = sum(pi(s, a) * sum(P(s, a, s_prime, r) * (r + gamma * V[s_prime]) for s_prime, r in SR(s, a)) for a in A)\n",
    "            delta = max(delta, abs(v - V[s]))\n",
    "\n",
    "        if delta < theta: break\n",
    "\n",
    "    return V\n",
    "\n",
    "\n",
    "def pi(s, a):\n",
    "    return .25\n",
    "\n",
    "def get_next_state_and_reward(s, a):\n",
    "    if any((s[0] == t[0] and s[1] == t[1]) for t in TERMINAL_STATES):\n",
    "        return s, 0\n",
    "    \n",
    "    next_state = (s[0] + a[0], s[1] + a[1])\n",
    "    if next_state[0] < 0 or next_state[0] >= GRID_SIZE or next_state[1] < 0 or next_state[1] >= GRID_SIZE:\n",
    "        next_state = s\n",
    "    \n",
    "    return next_state, -1\n",
    "\n",
    "def transition_prob(s, a, s_prime, r):\n",
    "    actual_next_state, actual_reward = get_next_state_and_reward(s, a)\n",
    "    return 1.0 if (s_prime == actual_next_state and r == actual_reward) else 0.0\n",
    "\n",
    "def SR(s, a):\n",
    "    next_state, reward = get_next_state_and_reward(s, a)\n",
    "    return [(next_state, reward)]\n",
    "\n",
    "GRID_SIZE = 4\n",
    "TERMINAL_STATES = [(0, 0), (3, 3)]\n",
    "A = [\n",
    "    (0, 1),\n",
    "    (0, -1),\n",
    "    (1, 0),\n",
    "    (-1, 0)\n",
    "]\n",
    "S = [\n",
    "    (i, j)\n",
    "    for i in range(GRID_SIZE)\n",
    "    for j in range(GRID_SIZE)\n",
    "]\n",
    "\n",
    "\n",
    "V = policy_evaluation(S, A, SR, P=transition_prob, pi=pi, theta=1e-6, gamma=1.0).round(2)\n",
    "print(V)"
   ]
  },
  {
   "cell_type": "code",
   "execution_count": 11,
   "id": "88396171",
   "metadata": {},
   "outputs": [
    {
     "name": "stdout",
     "output_type": "stream",
     "text": [
      "-1.0\n"
     ]
    }
   ],
   "source": [
    "# what is q_pi(11, down)?\n",
    "# 11 is state (2, 3), down is action (1, 0), reward is -1\n",
    "state = (2, 3)\n",
    "action = (1, 0)\n",
    "s_prime, reward = get_next_state_and_reward(state, action)\n",
    "gamma = 1.0\n",
    "action_value = reward + gamma * V[s_prime[0], s_prime[1]]\n",
    "print(action_value)"
   ]
  },
  {
   "cell_type": "code",
   "execution_count": 12,
   "id": "06631054",
   "metadata": {},
   "outputs": [
    {
     "name": "stdout",
     "output_type": "stream",
     "text": [
      "-15.0\n"
     ]
    }
   ],
   "source": [
    "# what is q_pi(7, down)?\n",
    "# 7 is state (1, 3), down is action (1, 0), reward is -1\n",
    "state = (1, 3)\n",
    "action = (1, 0)\n",
    "s_prime, reward = get_next_state_and_reward(state, action)\n",
    "gamma = 1.0\n",
    "action_value = reward + gamma * V[s_prime[0], s_prime[1]]\n",
    "print(action_value)"
   ]
  }
 ],
 "metadata": {
  "kernelspec": {
   "display_name": "venv",
   "language": "python",
   "name": "python3"
  },
  "language_info": {
   "codemirror_mode": {
    "name": "ipython",
    "version": 3
   },
   "file_extension": ".py",
   "mimetype": "text/x-python",
   "name": "python",
   "nbconvert_exporter": "python",
   "pygments_lexer": "ipython3",
   "version": "3.12.7"
  }
 },
 "nbformat": 4,
 "nbformat_minor": 5
}
