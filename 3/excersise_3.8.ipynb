{
 "cells": [
  {
   "cell_type": "code",
   "execution_count": 12,
   "id": "93d4e874",
   "metadata": {},
   "outputs": [
    {
     "name": "stdout",
     "output_type": "stream",
     "text": [
      "[2.0, 4.0, 8.0, 6.0, 2.0]\n"
     ]
    }
   ],
   "source": [
    "import numpy as np\n",
    "\n",
    "gamma = .5\n",
    "rewards = [-1, 2, 6, 3, 2]\n",
    "gs = []\n",
    "total_reward = 0\n",
    "for reward in reversed(rewards):\n",
    "    total_reward = gamma * total_reward + reward\n",
    "    gs.append(total_reward)\n",
    "print(gs)"
   ]
  }
 ],
 "metadata": {
  "kernelspec": {
   "display_name": "venv",
   "language": "python",
   "name": "python3"
  },
  "language_info": {
   "codemirror_mode": {
    "name": "ipython",
    "version": 3
   },
   "file_extension": ".py",
   "mimetype": "text/x-python",
   "name": "python",
   "nbconvert_exporter": "python",
   "pygments_lexer": "ipython3",
   "version": "3.12.7"
  }
 },
 "nbformat": 4,
 "nbformat_minor": 5
}
