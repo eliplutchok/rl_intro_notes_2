{
 "cells": [
  {
   "cell_type": "code",
   "execution_count": 5,
   "id": "93d4e874",
   "metadata": {},
   "outputs": [
    {
     "name": "stdout",
     "output_type": "stream",
     "text": [
      "64.99999999999991\n"
     ]
    }
   ],
   "source": [
    "import numpy as np\n",
    "\n",
    "gamma = .9\n",
    "rewards = [2]\n",
    "rewards.extend([7]*999999999)\n",
    "gs = []\n",
    "total_reward = 0\n",
    "for reward in reversed(rewards):\n",
    "    total_reward = gamma * total_reward + reward\n",
    "\n",
    "print(total_reward)"
   ]
  },
  {
   "cell_type": "code",
   "execution_count": 9,
   "id": "f240caee",
   "metadata": {},
   "outputs": [
    {
     "name": "stdout",
     "output_type": "stream",
     "text": [
      "65.00000000000001\n",
      "70.00000000000001\n"
     ]
    }
   ],
   "source": [
    "g_1 = (7 / (1 - gamma))\n",
    "g_0 = 2 + gamma * g_1\n",
    "print(g_0)\n",
    "print(g_1)"
   ]
  }
 ],
 "metadata": {
  "kernelspec": {
   "display_name": "venv",
   "language": "python",
   "name": "python3"
  },
  "language_info": {
   "codemirror_mode": {
    "name": "ipython",
    "version": 3
   },
   "file_extension": ".py",
   "mimetype": "text/x-python",
   "name": "python",
   "nbconvert_exporter": "python",
   "pygments_lexer": "ipython3",
   "version": "3.12.7"
  }
 },
 "nbformat": 4,
 "nbformat_minor": 5
}
