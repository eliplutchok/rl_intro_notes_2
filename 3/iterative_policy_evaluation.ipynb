{
 "cells": [
  {
   "cell_type": "code",
   "execution_count": null,
   "id": "9c2d93ca",
   "metadata": {},
   "outputs": [
    {
     "name": "stdout",
     "output_type": "stream",
     "text": [
      "[-9.99994933e-01 -9.99996417e-01  1.79150605e-06  0.00000000e+00]\n"
     ]
    }
   ],
   "source": [
    "import numpy as np\n",
    "\n",
    "# hardcoded policy\n",
    "def pi(s, a):\n",
    "    return 0.5\n",
    "\n",
    "def policy_evaluation(S, A, SR, P, pi, theta=1e-6, gamma=1.0):\n",
    "    V = np.zeros(len(S), dtype=float)\n",
    "\n",
    "    while True:\n",
    "        delta = 0.0\n",
    "        for s in S:\n",
    "            v = V[s]\n",
    "            V[s] = sum(pi(s, a) * sum(P(s, a, s_prime, r) * (r + gamma * V[s_prime]) for s_prime, r in SR(s, a)) for a in A)\n",
    "            delta = max(delta, abs(v - V[s]))\n",
    "\n",
    "        if delta < theta: break\n",
    "\n",
    "    return V\n",
    "\n",
    "\n",
    "SR_PAIRS = {\n",
    "    (0, 0): [(0, 0.0)],\n",
    "    (0, 1): [(1, 0.0)],\n",
    "    (1, 0): [(2, -1.0)],\n",
    "    (1, 1): [(0, 0.0)],\n",
    "    (2, 0): [(3, 1.0)],\n",
    "    (2, 1): [(1, 0.0)],\n",
    "    (3, 0): [(3, 0.0)],\n",
    "    (3, 1): [(3, 0.0)],\n",
    "}\n",
    "\n",
    "def SR(s, a):\n",
    "    return SR_PAIRS.get((s, a), [])\n",
    "\n",
    "P_PROB = {\n",
    "    (0, 0, 0, 0.0): 1.0,\n",
    "    (0, 1, 1, 0.0): 1.0,\n",
    "    (1, 0, 2, -1.0): 1.0,\n",
    "    (1, 1, 0, 0.0): 1.0,\n",
    "    (2, 0, 3, 1.0): 1.0,\n",
    "    (2, 1, 1, 0.0): 1.0,\n",
    "    (3, 0, 3, 0.0): 1.0,\n",
    "    (3, 1, 3, 0.0): 1.0,\n",
    "}\n",
    "\n",
    "def P(s, a, s_prime, r):\n",
    "    return P_PROB.get((s, a, s_prime, r), 0.0)\n",
    "\n",
    "S = [0, 1, 2, 3]\n",
    "A = [0, 1]\n",
    "TERMINAL_STATES = [3]\n",
    "\n",
    "V = policy_evaluation(S, A, SR, P, pi, theta=1e-6, gamma=1.0)\n",
    "print(V)\n"
   ]
  }
 ],
 "metadata": {
  "kernelspec": {
   "display_name": "venv",
   "language": "python",
   "name": "python3"
  },
  "language_info": {
   "codemirror_mode": {
    "name": "ipython",
    "version": 3
   },
   "file_extension": ".py",
   "mimetype": "text/x-python",
   "name": "python",
   "nbconvert_exporter": "python",
   "pygments_lexer": "ipython3",
   "version": "3.12.7"
  }
 },
 "nbformat": 4,
 "nbformat_minor": 5
}
