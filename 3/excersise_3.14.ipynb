{
 "cells": [
  {
   "cell_type": "code",
   "execution_count": 8,
   "id": "29fa44f5",
   "metadata": {},
   "outputs": [
    {
     "name": "stdout",
     "output_type": "stream",
     "text": [
      "0.6749999999999999\n",
      "1.575\n",
      "0.9\n"
     ]
    }
   ],
   "source": [
    "import numpy as np\n",
    "value = .7\n",
    "gamma = .9\n",
    "nei_vals = np.array([2.3, .4, -.4, .7])\n",
    "\n",
    "\n",
    "bel_val_1 = 0\n",
    "for nei_val in nei_vals:\n",
    "    bel_val_1 += .25 * gamma * nei_val\n",
    "print(bel_val_1)\n",
    "\n",
    "\n",
    "nei_vals += 1\n",
    "bel_val = 0\n",
    "for nei_val in nei_vals:\n",
    "    bel_val += .25 * gamma * nei_val\n",
    "print(bel_val)\n",
    "\n",
    "dif = bel_val - bel_val_1\n",
    "print(dif)"
   ]
  }
 ],
 "metadata": {
  "kernelspec": {
   "display_name": "venv",
   "language": "python",
   "name": "python3"
  },
  "language_info": {
   "codemirror_mode": {
    "name": "ipython",
    "version": 3
   },
   "file_extension": ".py",
   "mimetype": "text/x-python",
   "name": "python",
   "nbconvert_exporter": "python",
   "pygments_lexer": "ipython3",
   "version": "3.12.7"
  }
 },
 "nbformat": 4,
 "nbformat_minor": 5
}
