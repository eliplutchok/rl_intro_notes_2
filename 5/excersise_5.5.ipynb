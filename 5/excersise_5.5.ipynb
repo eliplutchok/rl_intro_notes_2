{
 "cells": [
  {
   "cell_type": "code",
   "execution_count": 12,
   "id": "5afb81df",
   "metadata": {},
   "outputs": [
    {
     "name": "stdout",
     "output_type": "stream",
     "text": [
      "defaultdict(<class 'float'>, {'S1': np.float64(5.5)})\n",
      "defaultdict(<class 'float'>, {'S1': np.float64(10.0)})\n"
     ]
    }
   ],
   "source": [
    "import numpy as np\n",
    "from collections import defaultdict\n",
    "\n",
    "A1 = 'A1'\n",
    "S1 = 'S1'\n",
    "S2 = 'S2'\n",
    "\n",
    "episode = [\n",
    "    (S1, A1, 1),\n",
    "    (S1, A1, 1),\n",
    "    (S1, A1, 1),\n",
    "    (S1, A1, 1),\n",
    "    (S1, A1, 1),\n",
    "    (S1, A1, 1),\n",
    "    (S1, A1, 1),\n",
    "    (S1, A1, 1),\n",
    "    (S1, A1, 1),\n",
    "    (S1, A1, 1)\n",
    "]\n",
    "\n",
    "v = defaultdict(float)\n",
    "returns = defaultdict(list)\n",
    "gamma = 1\n",
    "\n",
    "\n",
    "# every visit monte carlo\n",
    "g = 0\n",
    "for s, a, r in reversed(episode):\n",
    "    g = r + gamma * g\n",
    "    returns[(s, a)].append(g)\n",
    "    v[s] = np.mean(returns[(s, a)])\n",
    "\n",
    "print(v)\n",
    "\n",
    "# first visit monte carlo\n",
    "g = 0\n",
    "first_visit_dict = defaultdict(int)\n",
    "for i in reversed(range(len(episode))):\n",
    "    s, a, r = episode[i]\n",
    "    first_visit_dict[s] = i\n",
    "\n",
    "for i in reversed(range(len(episode))):\n",
    "    s, a, r = episode[i]\n",
    "    g = r + gamma * g\n",
    "\n",
    "    if first_visit_dict[s] == i:\n",
    "        returns[s].append(g)\n",
    "        v[s] = np.mean(returns[s])\n",
    "\n",
    "print(v)\n"
   ]
  }
 ],
 "metadata": {
  "kernelspec": {
   "display_name": "venv",
   "language": "python",
   "name": "python3"
  },
  "language_info": {
   "codemirror_mode": {
    "name": "ipython",
    "version": 3
   },
   "file_extension": ".py",
   "mimetype": "text/x-python",
   "name": "python",
   "nbconvert_exporter": "python",
   "pygments_lexer": "ipython3",
   "version": "3.12.7"
  }
 },
 "nbformat": 4,
 "nbformat_minor": 5
}
